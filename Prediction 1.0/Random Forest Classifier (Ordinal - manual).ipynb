{
 "cells": [
  {
   "cell_type": "code",
   "execution_count": 1,
   "metadata": {},
   "outputs": [],
   "source": [
    "import pandas as pd \n",
    "import seaborn as sns\n",
    "from sklearn.linear_model import LogisticRegression\n",
    "from sklearn.model_selection import cross_val_score\n",
    "from sklearn.metrics import make_scorer\n",
    "import numpy as np\n",
    "from sklearn.model_selection import train_test_split \n",
    "from sklearn import metrics\n",
    "from sklearn.metrics import accuracy_score\n",
    "import xgboost as xgb\n",
    "from sklearn.tree import DecisionTreeClassifier\n",
    "from sklearn.metrics import plot_confusion_matrix\n",
    "import matplotlib.pyplot as plt\n",
    "from sklearn.utils import class_weight\n",
    "from sklearn.metrics import f1_score, classification_report, confusion_matrix\n",
    "from sklearn.model_selection import RandomizedSearchCV"
   ]
  },
  {
   "cell_type": "code",
   "execution_count": 4,
   "metadata": {},
   "outputs": [],
   "source": [
    "df = pd.read_csv(\"csv_building_structure.csv\")"
   ]
  },
  {
   "cell_type": "code",
   "execution_count": 5,
   "metadata": {},
   "outputs": [],
   "source": [
    "df.dropna(inplace=True)\n",
    "\n",
    "df[\"damage_grade\"] = df[\"damage_grade\"].str.replace(\"Grade \", \"\")\n",
    "df[\"damage_grade\"] = df[\"damage_grade\"].astype(int)\n",
    "rubble = [\"Damaged-Rubble unclear\", \"Damaged-Rubble clear\", \"Damaged-Rubble Clear-New building built\"]\n",
    "damage = [\"Damaged-Used in risk\", \"Damaged-Repaired and used\", \"Damaged-Not used\"]\n",
    "landslide = \"Covered by landslide\"\n",
    "nd = \"Not damaged\"\n",
    "\n",
    "df[\"land_surface_condition\"] = df[\"land_surface_condition\"].replace(\"Flat\", 0)\n",
    "df[\"land_surface_condition\"] = df[\"land_surface_condition\"].replace(\"Moderate slope\", 1)\n",
    "df[\"land_surface_condition\"] = df[\"land_surface_condition\"].replace(\"Steep slope\", 2)\n",
    "\n",
    "df[\"foundation_type\"] = df[\"foundation_type\"].replace(\"Other\",0)\n",
    "df[\"foundation_type\"] = df[\"foundation_type\"].replace(\"Mud mortar-Stone/Brick\",1)\n",
    "df[\"foundation_type\"] = df[\"foundation_type\"].replace(\"Cement-Stone/Brick\",1)\n",
    "df[\"foundation_type\"] = df[\"foundation_type\"].replace(\"Bamboo/Timber\",3)\n",
    "df[\"foundation_type\"] = df[\"foundation_type\"].replace(\"RC\",2)\n",
    "\n",
    "df[\"roof_type\"] = df[\"roof_type\"].replace(\"RCC/RB/RBC\",0)\n",
    "df[\"roof_type\"] = df[\"roof_type\"].replace(\"Bamboo/Timber-Light roof\",1)\n",
    "df[\"roof_type\"] = df[\"roof_type\"].replace(\"Bamboo/Timber-Heavy roof\",2)\n",
    "\n",
    "df[\"ground_floor_type\"] = df[\"ground_floor_type\"].replace(\"Mud\",1)\n",
    "df[\"ground_floor_type\"] = df[\"ground_floor_type\"].replace(\"Brick/Stone\",2)\n",
    "df[\"ground_floor_type\"] = df[\"ground_floor_type\"].replace(\"RC\",3)\n",
    "df[\"ground_floor_type\"] = df[\"ground_floor_type\"].replace(\"Timber\",4)\n",
    "df[\"ground_floor_type\"] = df[\"ground_floor_type\"].replace(\"Other\",0)\n",
    "\n",
    "df[\"other_floor_type\"] = df[\"other_floor_type\"].replace(\"Not applicable\",0)\n",
    "df[\"other_floor_type\"] = df[\"other_floor_type\"].replace(\"TImber/Bamboo-Mud\",3)\n",
    "df[\"other_floor_type\"] = df[\"other_floor_type\"].replace(\"Timber-Planck\",2)\n",
    "df[\"other_floor_type\"] = df[\"other_floor_type\"].replace(\"RCC/RB/RBC\",1)\n",
    "\n",
    "df[\"position\"] = df[\"position\"].replace(\"Not attached\",0)\n",
    "df[\"position\"] = df[\"position\"].replace(\"Attached-1 side\",1)\n",
    "df[\"position\"] = df[\"position\"].replace(\"Attached-2 side\",2)\n",
    "df[\"position\"] = df[\"position\"].replace(\"Attached-3 side\",3)\n",
    "\n",
    "df = pd.get_dummies(data = df, columns = [\"plan_configuration\"])"
   ]
  },
  {
   "cell_type": "code",
   "execution_count": null,
   "metadata": {},
   "outputs": [],
   "source": [
    "X = df[['count_floors_pre_eq', 'age_building',\n",
    "       'plinth_area_sq_ft', 'height_ft_pre_eq',\n",
    "       'land_surface_condition', 'foundation_type', 'roof_type',\n",
    "       'ground_floor_type', 'other_floor_type', 'position',\n",
    "       'has_superstructure_adobe_mud', 'has_superstructure_mud_mortar_stone',\n",
    "       'has_superstructure_stone_flag',\n",
    "       'has_superstructure_cement_mortar_stone',\n",
    "       'has_superstructure_mud_mortar_brick',\n",
    "       'has_superstructure_cement_mortar_brick', 'has_superstructure_timber',\n",
    "       'has_superstructure_bamboo', 'has_superstructure_rc_non_engineered',\n",
    "       'has_superstructure_rc_engineered', 'has_superstructure_other', 'plan_configuration_Building with Central Courtyard',\n",
    "       'plan_configuration_E-shape', 'plan_configuration_H-shape',\n",
    "       'plan_configuration_L-shape', 'plan_configuration_Multi-projected',\n",
    "       'plan_configuration_Others', 'plan_configuration_Rectangular',\n",
    "       'plan_configuration_Square', 'plan_configuration_T-shape',\n",
    "       'plan_configuration_U-shape']]\n",
    "y = df[\"damage_grade\"]"
   ]
  },
  {
   "cell_type": "code",
   "execution_count": null,
   "metadata": {},
   "outputs": [],
   "source": [
    "X_train, X_test, y_train, y_test = train_test_split(X, y, test_size=0.2, random_state = 0, stratify=y)"
   ]
  },
  {
   "cell_type": "code",
   "execution_count": null,
   "metadata": {},
   "outputs": [],
   "source": [
    "from sklearn.ensemble import RandomForestClassifier\n",
    "clf = RandomForestClassifier()\n",
    "clf.fit(X_train,y_train)\n",
    "clf_pred = clf.predict(X_test)"
   ]
  },
  {
   "cell_type": "code",
   "execution_count": null,
   "metadata": {},
   "outputs": [],
   "source": [
    "print(classification_report(y_test, clf_pred))\n",
    "# Accuracy - Multinomial \n",
    "accuracy_clf = accuracy_score(y_test,clf_pred)\n",
    "print(\"Accuracy:\", accuracy_clf)\n",
    "#Misclassification rate \n",
    "misclassified_clf = 1 - accuracy_clf\n",
    "print(\"Misclassification Rate:\", misclassified_clf)\n",
    "\n",
    "# Precision and Recall\n",
    "precision_clf = metrics.precision_score(y_test,clf_pred, average = 'micro')\n",
    "recall_clf = metrics.recall_score(y_test, clf_pred, average = 'micro')\n",
    "f_measure_clf = metrics.f1_score(y_test, clf_pred, average = 'micro')\n",
    "print(\"Precision:\",precision_clf)\n",
    "print(\"Recall:\",recall_clf)\n",
    "print(\"F-measure:\",f_measure_clf)\n",
    "disp = plot_confusion_matrix(clf, X_test, y_test, cmap=plt.cm.Blues,normalize=\"true\")"
   ]
  }
 ],
 "metadata": {
  "kernelspec": {
   "display_name": "Python 3",
   "language": "python",
   "name": "python3"
  },
  "language_info": {
   "codemirror_mode": {
    "name": "ipython",
    "version": 3
   },
   "file_extension": ".py",
   "mimetype": "text/x-python",
   "name": "python",
   "nbconvert_exporter": "python",
   "pygments_lexer": "ipython3",
   "version": "3.7.5"
  }
 },
 "nbformat": 4,
 "nbformat_minor": 4
}
