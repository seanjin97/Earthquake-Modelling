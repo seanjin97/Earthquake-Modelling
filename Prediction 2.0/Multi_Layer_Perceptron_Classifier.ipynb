{
  "nbformat": 4,
  "nbformat_minor": 0,
  "metadata": {
    "kernelspec": {
      "display_name": "Python 3",
      "language": "python",
      "name": "python3"
    },
    "language_info": {
      "codemirror_mode": {
        "name": "ipython",
        "version": 3
      },
      "file_extension": ".py",
      "mimetype": "text/x-python",
      "name": "python",
      "nbconvert_exporter": "python",
      "pygments_lexer": "ipython3",
      "version": "3.7.5"
    },
    "colab": {
      "name": "Multi Layer Perceptron Classifier.ipynb",
      "provenance": [],
      "collapsed_sections": []
    }
  },
  "cells": [
    {
      "cell_type": "code",
      "metadata": {
        "id": "Wgxpnl_kIFG3",
        "colab_type": "code",
        "outputId": "266fc982-4951-48d1-83a5-7bdd792dac26",
        "colab": {
          "base_uri": "https://localhost:8080/",
          "height": 125
        }
      },
      "source": [
        "#To mount Drive\n",
        "from google.colab import drive\n",
        "drive.mount('/content/drive')"
      ],
      "execution_count": 2,
      "outputs": [
        {
          "output_type": "stream",
          "text": [
            "Go to this URL in a browser: https://accounts.google.com/o/oauth2/auth?client_id=947318989803-6bn6qk8qdgf4n4g3pfee6491hc0brc4i.apps.googleusercontent.com&redirect_uri=urn%3aietf%3awg%3aoauth%3a2.0%3aoob&response_type=code&scope=email%20https%3a%2f%2fwww.googleapis.com%2fauth%2fdocs.test%20https%3a%2f%2fwww.googleapis.com%2fauth%2fdrive%20https%3a%2f%2fwww.googleapis.com%2fauth%2fdrive.photos.readonly%20https%3a%2f%2fwww.googleapis.com%2fauth%2fpeopleapi.readonly\n",
            "\n",
            "Enter your authorization code:\n",
            "··········\n",
            "Mounted at /content/drive\n"
          ],
          "name": "stdout"
        }
      ]
    },
    {
      "cell_type": "code",
      "metadata": {
        "id": "nPn8r9QmHfAX",
        "colab_type": "code",
        "colab": {
          "base_uri": "https://localhost:8080/",
          "height": 72
        },
        "outputId": "21716505-f694-4037-878d-ffa34ecf86ab"
      },
      "source": [
        "import pandas as pd\n",
        "from sklearn.model_selection import train_test_split\n",
        "from sklearn.model_selection import cross_val_score\n",
        "from sklearn.preprocessing import OneHotEncoder\n",
        "from sklearn.preprocessing import StandardScaler\n",
        "from sklearn import metrics\n",
        "from sklearn.metrics import f1_score\n",
        "from sklearn.metrics import make_scorer \n",
        "from sklearn.metrics import confusion_matrix\n",
        "from sklearn.metrics import plot_confusion_matrix\n",
        "from sklearn.metrics import accuracy_score\n",
        "import matplotlib.pyplot as plt\n",
        "from sklearn.metrics import classification_report\n",
        "from sklearn.metrics import accuracy_score\n",
        "from sklearn.metrics import f1_score\n",
        "import seaborn as sns\n",
        "import numpy as np\n",
        "from sklearn.neural_network import MLPClassifier"
      ],
      "execution_count": 3,
      "outputs": [
        {
          "output_type": "stream",
          "text": [
            "/usr/local/lib/python3.6/dist-packages/statsmodels/tools/_testing.py:19: FutureWarning: pandas.util.testing is deprecated. Use the functions in the public API at pandas.testing instead.\n",
            "  import pandas.util.testing as tm\n"
          ],
          "name": "stderr"
        }
      ]
    },
    {
      "cell_type": "code",
      "metadata": {
        "id": "38A3dLRoHfAc",
        "colab_type": "code",
        "colab": {
          "base_uri": "https://localhost:8080/",
          "height": 35
        },
        "outputId": "f9d2c568-0330-4b1a-d646-d0c69d7cb31c"
      },
      "source": [
        "df = pd.read_csv(\"/content/drive/My Drive/merge_distance_intensity.csv\")\n",
        "df.shape"
      ],
      "execution_count": 4,
      "outputs": [
        {
          "output_type": "execute_result",
          "data": {
            "text/plain": [
              "(661294, 34)"
            ]
          },
          "metadata": {
            "tags": []
          },
          "execution_count": 4
        }
      ]
    },
    {
      "cell_type": "code",
      "metadata": {
        "id": "cqsehZKrHfAk",
        "colab_type": "code",
        "colab": {}
      },
      "source": [
        "df.dropna(inplace=True)\n",
        "\n",
        "df[\"damage_grade\"] = df[\"damage_grade\"].str.replace(\"Grade \", \"\")\n",
        "df[\"damage_grade\"] = df[\"damage_grade\"].astype(int)\n",
        "rubble = [\"Damaged-Rubble unclear\", \"Damaged-Rubble clear\", \"Damaged-Rubble Clear-New building built\"]\n",
        "damage = [\"Damaged-Used in risk\", \"Damaged-Repaired and used\", \"Damaged-Not used\"]\n",
        "landslide = \"Covered by landslide\"\n",
        "nd = \"Not damaged\"\n",
        "\n",
        "df[\"condition_post_eq\"] = df[\"condition_post_eq\"].replace(rubble, 2)\n",
        "df[\"condition_post_eq\"] = df[\"condition_post_eq\"].replace(damage, 1)\n",
        "df[\"condition_post_eq\"] = df[\"condition_post_eq\"].replace(landslide, 3)\n",
        "df[\"condition_post_eq\"] = df[\"condition_post_eq\"].replace(nd, 0)\n",
        "\n",
        "df[\"land_surface_condition\"] = df[\"land_surface_condition\"].replace(\"Flat\", 0)\n",
        "df[\"land_surface_condition\"] = df[\"land_surface_condition\"].replace(\"Moderate slope\", 1)\n",
        "df[\"land_surface_condition\"] = df[\"land_surface_condition\"].replace(\"Steep slope\", 2)\n",
        "\n",
        "df[\"foundation_type\"] = df[\"foundation_type\"].replace(\"Other\",0)\n",
        "df[\"foundation_type\"] = df[\"foundation_type\"].replace(\"Mud mortar-Stone/Brick\",1)\n",
        "df[\"foundation_type\"] = df[\"foundation_type\"].replace(\"Cement-Stone/Brick\",1)\n",
        "df[\"foundation_type\"] = df[\"foundation_type\"].replace(\"Bamboo/Timber\",3)\n",
        "df[\"foundation_type\"] = df[\"foundation_type\"].replace(\"RC\",2)\n",
        "\n",
        "df[\"roof_type\"] = df[\"roof_type\"].replace(\"RCC/RB/RBC\",0)\n",
        "df[\"roof_type\"] = df[\"roof_type\"].replace(\"Bamboo/Timber-Light roof\",1)\n",
        "df[\"roof_type\"] = df[\"roof_type\"].replace(\"Bamboo/Timber-Heavy roof\",2)\n",
        "\n",
        "df[\"ground_floor_type\"] = df[\"ground_floor_type\"].replace(\"Mud\",1)\n",
        "df[\"ground_floor_type\"] = df[\"ground_floor_type\"].replace(\"Brick/Stone\",2)\n",
        "df[\"ground_floor_type\"] = df[\"ground_floor_type\"].replace(\"RC\",3)\n",
        "df[\"ground_floor_type\"] = df[\"ground_floor_type\"].replace(\"Timber\",4)\n",
        "df[\"ground_floor_type\"] = df[\"ground_floor_type\"].replace(\"Other\",0)\n",
        "\n",
        "df[\"other_floor_type\"] = df[\"other_floor_type\"].replace(\"Not applicable\",0)\n",
        "df[\"other_floor_type\"] = df[\"other_floor_type\"].replace(\"TImber/Bamboo-Mud\",3)\n",
        "df[\"other_floor_type\"] = df[\"other_floor_type\"].replace(\"Timber-Planck\",2)\n",
        "df[\"other_floor_type\"] = df[\"other_floor_type\"].replace(\"RCC/RB/RBC\",1)\n",
        "\n",
        "df[\"position\"] = df[\"position\"].replace(\"Not attached\",0)\n",
        "df[\"position\"] = df[\"position\"].replace(\"Attached-1 side\",1)\n",
        "df[\"position\"] = df[\"position\"].replace(\"Attached-2 side\",2)\n",
        "df[\"position\"] = df[\"position\"].replace(\"Attached-3 side\",3)\n",
        "\n",
        "df = pd.get_dummies(data = df, columns = [\"plan_configuration\"])\n",
        "\n",
        "X = df[['count_floors_pre_eq', 'age_building',\n",
        "       'plinth_area_sq_ft', 'height_ft_pre_eq',\n",
        "       'land_surface_condition', 'foundation_type', 'roof_type',\n",
        "       'ground_floor_type', 'other_floor_type', 'position',\n",
        "       'has_superstructure_adobe_mud', 'has_superstructure_mud_mortar_stone',\n",
        "       'has_superstructure_stone_flag',\n",
        "       'has_superstructure_cement_mortar_stone',\n",
        "       'has_superstructure_mud_mortar_brick',\n",
        "       'has_superstructure_cement_mortar_brick', 'has_superstructure_timber',\n",
        "       'has_superstructure_bamboo', 'has_superstructure_rc_non_engineered',\n",
        "       'has_superstructure_rc_engineered', 'has_superstructure_other', 'plan_configuration_Building with Central Courtyard',\n",
        "       'plan_configuration_E-shape', 'plan_configuration_H-shape',\n",
        "       'plan_configuration_L-shape', 'plan_configuration_Multi-projected',\n",
        "       'plan_configuration_Others', 'plan_configuration_Rectangular',\n",
        "       'plan_configuration_Square', 'plan_configuration_T-shape',\n",
        "       'plan_configuration_U-shape', 'Intensity']]\n",
        "y = df[\"damage_grade\"]"
      ],
      "execution_count": 0,
      "outputs": []
    },
    {
      "cell_type": "markdown",
      "metadata": {
        "id": "zBxc0hDVFBXT",
        "colab_type": "text"
      },
      "source": [
        "Standardize the variables"
      ]
    },
    {
      "cell_type": "code",
      "metadata": {
        "id": "TvOvaf7yFMhR",
        "colab_type": "code",
        "colab": {}
      },
      "source": [
        "from sklearn.preprocessing import StandardScaler\n",
        "\n",
        "scaler = StandardScaler()\n",
        "scaler_fit = scaler.fit(X)\n",
        "X = scaler_fit.transform(X)"
      ],
      "execution_count": 0,
      "outputs": []
    },
    {
      "cell_type": "markdown",
      "metadata": {
        "id": "HRTmBg0GFvzj",
        "colab_type": "text"
      },
      "source": [
        "Split into train and test data"
      ]
    },
    {
      "cell_type": "code",
      "metadata": {
        "id": "O_pO4XwVHfAs",
        "colab_type": "code",
        "colab": {}
      },
      "source": [
        "X_train, X_test, y_train, y_test = train_test_split(X, y, test_size=0.2, random_state = 0, stratify=y)"
      ],
      "execution_count": 0,
      "outputs": []
    },
    {
      "cell_type": "code",
      "metadata": {
        "id": "_x7lS7iQMVnn",
        "colab_type": "code",
        "outputId": "a9da2e64-b798-48ff-c88c-f4526ddc0909",
        "colab": {
          "base_uri": "https://localhost:8080/",
          "height": 158
        }
      },
      "source": [
        "from sklearn.neural_network import MLPClassifier\n",
        "mlp = MLPClassifier(hidden_layer_sizes=(50, 50, 50), max_iter=1000)\n",
        "mlp.fit(X_train, y_train.values.ravel())"
      ],
      "execution_count": 8,
      "outputs": [
        {
          "output_type": "execute_result",
          "data": {
            "text/plain": [
              "MLPClassifier(activation='relu', alpha=0.0001, batch_size='auto', beta_1=0.9,\n",
              "              beta_2=0.999, early_stopping=False, epsilon=1e-08,\n",
              "              hidden_layer_sizes=(50, 50, 50), learning_rate='constant',\n",
              "              learning_rate_init=0.001, max_fun=15000, max_iter=1000,\n",
              "              momentum=0.9, n_iter_no_change=10, nesterovs_momentum=True,\n",
              "              power_t=0.5, random_state=None, shuffle=True, solver='adam',\n",
              "              tol=0.0001, validation_fraction=0.1, verbose=False,\n",
              "              warm_start=False)"
            ]
          },
          "metadata": {
            "tags": []
          },
          "execution_count": 8
        }
      ]
    },
    {
      "cell_type": "markdown",
      "metadata": {
        "id": "_3hplC30F1Sy",
        "colab_type": "text"
      },
      "source": [
        "Measurements"
      ]
    },
    {
      "cell_type": "code",
      "metadata": {
        "id": "9Q3VBIJVGqad",
        "colab_type": "code",
        "colab": {
          "base_uri": "https://localhost:8080/",
          "height": 105
        },
        "outputId": "10feacfc-0a45-49ca-933c-9b33f11d4b17"
      },
      "source": [
        "#Confusion Matrix\n",
        "predictions = mlp.predict(X_test)\n",
        "metrics.confusion_matrix(y_test, predictions)"
      ],
      "execution_count": 10,
      "outputs": [
        {
          "output_type": "execute_result",
          "data": {
            "text/plain": [
              "array([[ 9753,  1296,   981,   615,   892],\n",
              "       [ 4246,  2157,  3183,  2241,  2696],\n",
              "       [ 2034,  1530,  6141,  6238,  7132],\n",
              "       [  709,   671,  4053, 12284, 14063],\n",
              "       [  673,   460,  2656,  7303, 38250]])"
            ]
          },
          "metadata": {
            "tags": []
          },
          "execution_count": 10
        }
      ]
    },
    {
      "cell_type": "code",
      "metadata": {
        "id": "YB5nKF2zURPL",
        "colab_type": "code",
        "colab": {
          "base_uri": "https://localhost:8080/",
          "height": 279
        },
        "outputId": "fc6f7260-ffd8-41bc-92f1-785408cea281"
      },
      "source": [
        "#Plot Confusion Matrix\n",
        "disp = plot_confusion_matrix(mlp, X_test, y_test, cmap=plt.cm.Blues,normalize=\"true\")"
      ],
      "execution_count": 11,
      "outputs": [
        {
          "output_type": "display_data",
          "data": {
            "image/png": "[encoded data removed]",
            "text/plain": [
              "<Figure size 432x288 with 2 Axes>"
            ]
          },
          "metadata": {
            "tags": [],
            "needs_background": "light"
          }
        }
      ]
    },
    {
      "cell_type": "code",
      "metadata": {
        "id": "ihfnc-lGUOBb",
        "colab_type": "code",
        "outputId": "f2fc5a80-b373-46c4-8a92-58838be6bb5e",
        "colab": {
          "base_uri": "https://localhost:8080/",
          "height": 105
        }
      },
      "source": [
        "#Accuracy\n",
        "accuracy = accuracy_score(y_test,predictions)\n",
        "print(\"Accuracy:\", accuracy)\n",
        "\n",
        "#Misclassification rate \n",
        "misclassified = 1 - accuracy \n",
        "print(\"Misclassification Rate:\", misclassified)\n",
        "\n",
        "#Precision, Recall and F Score\n",
        "precision = metrics.precision_score(y_test,predictions, average = 'micro')\n",
        "recall = metrics.recall_score(y_test, predictions, average = 'micro')\n",
        "f_measure = metrics.f1_score(y_test, predictions, average = 'micro')\n",
        "print(\"Precision:\",precision)\n",
        "print(\"Recall:\",recall)\n",
        "print(\"F-measure:\",f_measure)"
      ],
      "execution_count": 12,
      "outputs": [
        {
          "output_type": "stream",
          "text": [
            "Accuracy: 0.5185736860808879\n",
            "Misclassification Rate: 0.48142631391911206\n",
            "Precision: 0.5185736860808879\n",
            "Recall: 0.5185736860808879\n",
            "F-measure: 0.5185736860808879\n"
          ],
          "name": "stdout"
        }
      ]
    }
  ]
}