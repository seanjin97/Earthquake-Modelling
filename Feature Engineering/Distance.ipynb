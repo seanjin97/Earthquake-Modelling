{
 "cells": [
  {
   "cell_type": "code",
   "execution_count": 39,
   "metadata": {},
   "outputs": [
    {
     "name": "stdout",
     "output_type": "stream",
     "text": [
      "     Municipality Codes                           Municipal  \\\n",
      "3                  1204            Likhu Rural Municipality   \n",
      "6                  1207           Siddhicharan Municipality   \n",
      "8                  2001               Dudhouli Municipality   \n",
      "10                 2003         Golanjor Rural Municipality   \n",
      "11                 2004  Hariharpurgaghi Rural Municipality   \n",
      "..                  ...                                 ...   \n",
      "106                3606          Dharche Rural Municipality   \n",
      "107                3607          Gandaki Rural Municipality   \n",
      "108                3608                 Gorkha Municipality   \n",
      "109                3609              Palungtar Municipality   \n",
      "111                3611       Siranchowk Rural Municipality   \n",
      "\n",
      "                 Formatted Address         Lat                Lng  \n",
      "3               Likhu 44900, Nepal  27.8660696         85.4014387  \n",
      "6        Siddhicharan 56100, Nepal  27.3065119  86.50976089999999  \n",
      "8            Dudhauli 45900, Nepal  26.9713287  86.26664629999999  \n",
      "10           Gwaltar, 45900, Nepal  27.2802409         86.0708016  \n",
      "11   Hariharpur Gadhi 45900, Nepal   27.316667         85.4833331  \n",
      "..                             ...         ...                ...  \n",
      "106                   Gumda, Nepal  28.2297514  84.87234749999999  \n",
      "107             Bhumlichowk, Nepal  27.8449846  84.69192629999999  \n",
      "108                  Gorkha, Nepal  27.9841839         84.6269824  \n",
      "109               Palungtar, Nepal  28.0138308          84.490753  \n",
      "111                  Gorkha, Nepal  28.0857399  84.60230949999999  \n",
      "\n",
      "[91 rows x 5 columns]\n",
      "object\n"
     ]
    },
    {
     "ename": "TypeError",
     "evalue": "'int' object is not subscriptable",
     "output_type": "error",
     "traceback": [
      "\u001b[1;31m---------------------------------------------------------------------------\u001b[0m",
      "\u001b[1;31mTypeError\u001b[0m                                 Traceback (most recent call last)",
      "\u001b[1;32m<ipython-input-39-32928e8ba3dc>\u001b[0m in \u001b[0;36m<module>\u001b[1;34m\u001b[0m\n\u001b[0;32m     15\u001b[0m \u001b[1;32mfor\u001b[0m \u001b[0mindex\u001b[0m\u001b[1;33m,\u001b[0m\u001b[0mrow\u001b[0m \u001b[1;32min\u001b[0m \u001b[0mdf\u001b[0m\u001b[1;33m.\u001b[0m\u001b[0miterrows\u001b[0m\u001b[1;33m(\u001b[0m\u001b[1;33m)\u001b[0m\u001b[1;33m:\u001b[0m\u001b[1;33m\u001b[0m\u001b[1;33m\u001b[0m\u001b[0m\n\u001b[0;32m     16\u001b[0m     \u001b[0mcoords_2\u001b[0m \u001b[1;33m=\u001b[0m \u001b[0mPoint\u001b[0m\u001b[1;33m(\u001b[0m\u001b[0mrow\u001b[0m\u001b[1;33m[\u001b[0m\u001b[1;34m\"Lat\"\u001b[0m\u001b[1;33m]\u001b[0m\u001b[1;33m,\u001b[0m \u001b[0mrow\u001b[0m\u001b[1;33m[\u001b[0m\u001b[1;34m\"Lng\"\u001b[0m\u001b[1;33m]\u001b[0m\u001b[1;33m)\u001b[0m\u001b[1;33m\u001b[0m\u001b[1;33m\u001b[0m\u001b[0m\n\u001b[1;32m---> 17\u001b[1;33m     \u001b[0mdf2\u001b[0m\u001b[1;33m.\u001b[0m\u001b[0mloc\u001b[0m\u001b[1;33m[\u001b[0m\u001b[0mrow1\u001b[0m\u001b[1;33m]\u001b[0m\u001b[1;33m=\u001b[0m\u001b[0mrow\u001b[0m\u001b[1;33m[\u001b[0m\u001b[1;34m\"Municipality Codes\"\u001b[0m\u001b[1;33m]\u001b[0m\u001b[1;33m[\u001b[0m\u001b[1;36m0\u001b[0m\u001b[1;33m:\u001b[0m\u001b[1;33m-\u001b[0m\u001b[1;36m2\u001b[0m\u001b[1;33m]\u001b[0m\u001b[1;33m,\u001b[0m \u001b[0mround\u001b[0m\u001b[1;33m(\u001b[0m\u001b[0mgeopy\u001b[0m\u001b[1;33m.\u001b[0m\u001b[0mdistance\u001b[0m\u001b[1;33m.\u001b[0m\u001b[0mgeodesic\u001b[0m\u001b[1;33m(\u001b[0m\u001b[0mcoords_1\u001b[0m\u001b[1;33m,\u001b[0m \u001b[0mcoords_2\u001b[0m\u001b[1;33m)\u001b[0m\u001b[1;33m.\u001b[0m\u001b[0mkm\u001b[0m\u001b[1;33m,\u001b[0m \u001b[1;36m1\u001b[0m\u001b[1;33m)\u001b[0m\u001b[1;33m\u001b[0m\u001b[1;33m\u001b[0m\u001b[0m\n\u001b[0m\u001b[0;32m     18\u001b[0m     \u001b[0mrow1\u001b[0m\u001b[1;33m=\u001b[0m\u001b[0mrow1\u001b[0m\u001b[1;33m+\u001b[0m\u001b[1;36m1\u001b[0m\u001b[1;33m\u001b[0m\u001b[1;33m\u001b[0m\u001b[0m\n\u001b[0;32m     19\u001b[0m \u001b[0mdf2\u001b[0m\u001b[1;33m.\u001b[0m\u001b[0mto_csv\u001b[0m\u001b[1;33m(\u001b[0m\u001b[1;34m'out2.csv'\u001b[0m\u001b[1;33m,\u001b[0m \u001b[0mindex\u001b[0m\u001b[1;33m=\u001b[0m\u001b[1;32mFalse\u001b[0m\u001b[1;33m)\u001b[0m\u001b[1;33m\u001b[0m\u001b[1;33m\u001b[0m\u001b[0m\n",
      "\u001b[1;31mTypeError\u001b[0m: 'int' object is not subscriptable"
     ]
    }
   ],
   "source": [
    "import pandas as pd\n",
    "import numpy as np\n",
    "import geopy.distance\n",
    "\n",
    "df=pd.read_csv(\"out.csv\",index_col=None)\n",
    "column_names = [\"Municipality Codes\",\"Distance from Epicentre\"]\n",
    "df2 = pd.DataFrame(columns = column_names)\n",
    "df = df[df.Lat !=\"no result\"]\n",
    "print(df)\n",
    "lat=float(df.loc[df['Municipal']==\"Gorkha Municipality\"]['Lat'])\n",
    "lng=float(df.loc[df['Municipal']==\"Gorkha Municipality\"]['Lng'])\n",
    "coords_1= Point(lat,lng)\n",
    "row1=0\n",
    "print(df['Municipal'].dtype)\n",
    "for index,row in df.iterrows():\n",
    "    coords_2 = Point(row[\"Lat\"], row[\"Lng\"])\n",
    "    df2.loc[row1]=row[\"Municipality Codes\"], round(geopy.distance.geodesic(coords_1, coords_2).km, 1)\n",
    "    row1=row1+1\n",
    "df2.to_csv('out2.csv', index=False)"
   ]
  },
  {
   "cell_type": "code",
   "execution_count": null,
   "metadata": {},
   "outputs": [],
   "source": []
  },
  {
   "cell_type": "code",
   "execution_count": null,
   "metadata": {},
   "outputs": [],
   "source": []
  }
 ],
 "metadata": {
  "kernelspec": {
   "display_name": "Python 3",
   "language": "python",
   "name": "python3"
  },
  "language_info": {
   "codemirror_mode": {
    "name": "ipython",
    "version": 3
   },
   "file_extension": ".py",
   "mimetype": "text/x-python",
   "name": "python",
   "nbconvert_exporter": "python",
   "pygments_lexer": "ipython3",
   "version": "3.7.6"
  }
 },
 "nbformat": 4,
 "nbformat_minor": 2
}
