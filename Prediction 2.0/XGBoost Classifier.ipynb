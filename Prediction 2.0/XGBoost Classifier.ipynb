{
 "cells": [
  {
   "cell_type": "code",
   "execution_count": 1,
   "metadata": {},
   "outputs": [],
   "source": [
    "import pandas as pd \n",
    "import seaborn as sns\n",
    "from sklearn.linear_model import LogisticRegression\n",
    "from sklearn.model_selection import cross_val_score\n",
    "from sklearn.metrics import make_scorer\n",
    "import numpy as np\n",
    "from sklearn.model_selection import train_test_split \n",
    "from sklearn import metrics\n",
    "from sklearn.metrics import accuracy_score\n",
    "import xgboost as xgb\n",
    "from sklearn.tree import DecisionTreeClassifier\n",
    "from sklearn.metrics import plot_confusion_matrix\n",
    "import matplotlib.pyplot as plt\n",
    "from sklearn.utils import class_weight\n",
    "from sklearn.metrics import f1_score, classification_report, confusion_matrix\n",
    "from sklearn.model_selection import RandomizedSearchCV"
   ]
  },
  {
   "cell_type": "code",
   "execution_count": 2,
   "metadata": {},
   "outputs": [],
   "source": [
    "df = pd.read_csv(\"merge_distance_intensity.csv\")"
   ]
  },
  {
   "cell_type": "code",
   "execution_count": 4,
   "metadata": {},
   "outputs": [],
   "source": [
    "df.dropna(inplace=True)\n",
    "\n",
    "df[\"damage_grade\"] = df[\"damage_grade\"].str.replace(\"Grade \", \"\")\n",
    "df[\"damage_grade\"] = df[\"damage_grade\"].astype(int)\n",
    "rubble = [\"Damaged-Rubble unclear\", \"Damaged-Rubble clear\", \"Damaged-Rubble Clear-New building built\"]\n",
    "damage = [\"Damaged-Used in risk\", \"Damaged-Repaired and used\", \"Damaged-Not used\"]\n",
    "landslide = \"Covered by landslide\"\n",
    "nd = \"Not damaged\"\n",
    "\n",
    "df[\"condition_post_eq\"] = df[\"condition_post_eq\"].replace(rubble, 2)\n",
    "df[\"condition_post_eq\"] = df[\"condition_post_eq\"].replace(damage, 1)\n",
    "df[\"condition_post_eq\"] = df[\"condition_post_eq\"].replace(landslide, 3)\n",
    "df[\"condition_post_eq\"] = df[\"condition_post_eq\"].replace(nd, 0)\n",
    "\n",
    "df[\"land_surface_condition\"] = df[\"land_surface_condition\"].replace(\"Flat\", 0)\n",
    "df[\"land_surface_condition\"] = df[\"land_surface_condition\"].replace(\"Moderate slope\", 1)\n",
    "df[\"land_surface_condition\"] = df[\"land_surface_condition\"].replace(\"Steep slope\", 2)\n",
    "\n",
    "df[\"foundation_type\"] = df[\"foundation_type\"].replace(\"Other\",0)\n",
    "df[\"foundation_type\"] = df[\"foundation_type\"].replace(\"Mud mortar-Stone/Brick\",1)\n",
    "df[\"foundation_type\"] = df[\"foundation_type\"].replace(\"Cement-Stone/Brick\",1)\n",
    "df[\"foundation_type\"] = df[\"foundation_type\"].replace(\"Bamboo/Timber\",3)\n",
    "df[\"foundation_type\"] = df[\"foundation_type\"].replace(\"RC\",2)\n",
    "\n",
    "df[\"roof_type\"] = df[\"roof_type\"].replace(\"RCC/RB/RBC\",0)\n",
    "df[\"roof_type\"] = df[\"roof_type\"].replace(\"Bamboo/Timber-Light roof\",1)\n",
    "df[\"roof_type\"] = df[\"roof_type\"].replace(\"Bamboo/Timber-Heavy roof\",2)\n",
    "\n",
    "df[\"ground_floor_type\"] = df[\"ground_floor_type\"].replace(\"Mud\",1)\n",
    "df[\"ground_floor_type\"] = df[\"ground_floor_type\"].replace(\"Brick/Stone\",2)\n",
    "df[\"ground_floor_type\"] = df[\"ground_floor_type\"].replace(\"RC\",3)\n",
    "df[\"ground_floor_type\"] = df[\"ground_floor_type\"].replace(\"Timber\",4)\n",
    "df[\"ground_floor_type\"] = df[\"ground_floor_type\"].replace(\"Other\",0)\n",
    "\n",
    "df[\"other_floor_type\"] = df[\"other_floor_type\"].replace(\"Not applicable\",0)\n",
    "df[\"other_floor_type\"] = df[\"other_floor_type\"].replace(\"TImber/Bamboo-Mud\",3)\n",
    "df[\"other_floor_type\"] = df[\"other_floor_type\"].replace(\"Timber-Planck\",2)\n",
    "df[\"other_floor_type\"] = df[\"other_floor_type\"].replace(\"RCC/RB/RBC\",1)\n",
    "\n",
    "df[\"position\"] = df[\"position\"].replace(\"Not attached\",0)\n",
    "df[\"position\"] = df[\"position\"].replace(\"Attached-1 side\",1)\n",
    "df[\"position\"] = df[\"position\"].replace(\"Attached-2 side\",2)\n",
    "df[\"position\"] = df[\"position\"].replace(\"Attached-3 side\",3)\n",
    "\n",
    "df = pd.get_dummies(data = df, columns = [\"plan_configuration\"])\n",
    "\n"
   ]
  },
  {
   "cell_type": "code",
   "execution_count": 7,
   "metadata": {},
   "outputs": [],
   "source": [
    "X = df[['count_floors_pre_eq', 'age_building',\n",
    "       'plinth_area_sq_ft', 'height_ft_pre_eq',\n",
    "       'land_surface_condition', 'foundation_type', 'roof_type',\n",
    "       'ground_floor_type', 'other_floor_type', 'position',\n",
    "       'has_superstructure_adobe_mud', 'has_superstructure_mud_mortar_stone',\n",
    "       'has_superstructure_stone_flag',\n",
    "       'has_superstructure_cement_mortar_stone',\n",
    "       'has_superstructure_mud_mortar_brick',\n",
    "       'has_superstructure_cement_mortar_brick', 'has_superstructure_timber',\n",
    "       'has_superstructure_bamboo', 'has_superstructure_rc_non_engineered',\n",
    "       'has_superstructure_rc_engineered', 'has_superstructure_other', 'plan_configuration_Building with Central Courtyard',\n",
    "       'plan_configuration_E-shape', 'plan_configuration_H-shape',\n",
    "       'plan_configuration_L-shape', 'plan_configuration_Multi-projected',\n",
    "       'plan_configuration_Others', 'plan_configuration_Rectangular',\n",
    "       'plan_configuration_Square', 'plan_configuration_T-shape',\n",
    "       'plan_configuration_U-shape', \"Intensity\"]]\n",
    "y = df[\"damage_grade\"]"
   ]
  },
  {
   "cell_type": "code",
   "execution_count": 9,
   "metadata": {},
   "outputs": [],
   "source": [
    "X_train, X_test, y_train, y_test = train_test_split(X, y, test_size=0.2, random_state = 0, stratify=y)"
   ]
  },
  {
   "cell_type": "code",
   "execution_count": 25,
   "metadata": {},
   "outputs": [],
   "source": [
    "import xgboost as xgb\n",
    "dtrain = xgb.DMatrix(data=X_train, label=y_train)\n",
    "dtest = xgb.DMatrix(data=X_test)\n",
    "params = {\"max_depth\": 15, \"objective\":\"multi:softmax\", \"num_class\":6, \"n_gpus\":0}"
   ]
  },
  {
   "cell_type": "code",
   "execution_count": 26,
   "metadata": {},
   "outputs": [],
   "source": [
    "bst = xgb.train(params,dtrain)"
   ]
  },
  {
   "cell_type": "code",
   "execution_count": 27,
   "metadata": {},
   "outputs": [],
   "source": [
    "pred = bst.predict(dtest)"
   ]
  },
  {
   "cell_type": "code",
   "execution_count": 35,
   "metadata": {},
   "outputs": [
    {
     "name": "stdout",
     "output_type": "stream",
     "text": [
      "              precision    recall  f1-score   support\n",
      "\n",
      "           1       0.59      0.73      0.65     13537\n",
      "           2       0.40      0.22      0.28     14523\n",
      "           3       0.42      0.33      0.37     23075\n",
      "           4       0.48      0.43      0.45     31780\n",
      "           5       0.66      0.81      0.72     49342\n",
      "\n",
      "    accuracy                           0.56    132257\n",
      "   macro avg       0.51      0.50      0.50    132257\n",
      "weighted avg       0.54      0.56      0.54    132257\n",
      "\n",
      "0.5617850094891008\n"
     ]
    },
    {
     "data": {
      "image/png": "[encoded data removed]",
      "text/plain": [
       "<Figure size 504x432 with 2 Axes>"
      ]
     },
     "metadata": {
      "needs_background": "light"
     },
     "output_type": "display_data"
    }
   ],
   "source": [
    "print(classification_report(y_test, pred))\n",
    "cm = confusion_matrix(y_test, pred)\n",
    "print(f1_score(y_test,pred,average = 'micro'))\n",
    "def plot_confusion_matrix(cm, classes, normalized=True, cmap='Blues'):\n",
    "    plt.figure(figsize=[7, 6])\n",
    "    norm_cm = cm\n",
    "    if normalized:\n",
    "        norm_cm = cm.astype('float') / cm.sum(axis=1)[:, np.newaxis]\n",
    "        sns.heatmap(norm_cm, annot=cm, fmt='g', xticklabels=classes, yticklabels=classes, cmap=cmap)\n",
    "        \n",
    "plot_confusion_matrix(cm, classes = [1,2,3,4,5])"
   ]
  }
 ],
 "metadata": {
  "kernelspec": {
   "display_name": "Python 3",
   "language": "python",
   "name": "python3"
  },
  "language_info": {
   "codemirror_mode": {
    "name": "ipython",
    "version": 3
   },
   "file_extension": ".py",
   "mimetype": "text/x-python",
   "name": "python",
   "nbconvert_exporter": "python",
   "pygments_lexer": "ipython3",
   "version": "3.7.5"
  }
 },
 "nbformat": 4,
 "nbformat_minor": 4
}
