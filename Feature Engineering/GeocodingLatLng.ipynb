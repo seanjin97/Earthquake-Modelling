{
 "cells": [
  {
   "cell_type": "code",
   "execution_count": 1,
   "metadata": {},
   "outputs": [
    {
     "name": "stdout",
     "output_type": "stream",
     "text": [
      "     Municipality Codes                            Municipal\n",
      "0                  1201        Champadevi Rural Municipality\n",
      "1                  1202  Chishankhu Gadhi Rural Municipality\n",
      "2                  1203       Khiji Demba Rural Municipality\n",
      "3                  1204             Likhu Rural Municipality\n",
      "4                  1205     Manebhanjyang Rural Municipality\n",
      "..                  ...                                  ...\n",
      "107                3607           Gandaki Rural Municipality\n",
      "108                3608                  Gorkha Municipality\n",
      "109                3609               Palungtar Municipality\n",
      "110                3610     Shahid Lakhan Rural Municipality\n",
      "111                3611        Siranchowk Rural Municipality\n",
      "\n",
      "[112 rows x 2 columns]\n"
     ]
    }
   ],
   "source": [
    "import pandas as pd\n",
    "import requests, json \n",
    "\n",
    "rows1=0\n",
    "df=pd.read_csv(\"municipal.csv\",index_col=None)\n",
    "column_names = [\"Municipality Codes\", \"Municipal\",\"Formatted Address\",\"Lat\",\"Lng\"]\n",
    "df2 = pd.DataFrame(columns = column_names)\n",
    "print(df)\n",
    "for index,row in df.iterrows():\n",
    "    api_key = 'removed key'\n",
    "    url = 'https://maps.googleapis.com/maps/api/geocode/json?'\n",
    "    place =row[\"Municipal\"]+\",Nepal\"\n",
    "    res_ob = requests.get(url+'address='+place+'&key='+api_key) \n",
    "    x = res_ob.json()\n",
    "    try:\n",
    "        df2.loc[rows1]=row[\"Municipality Codes\"], row[\"Municipal\"], x['results'][0][\"formatted_address\"], x['results'][0]['geometry']['location']['lat'],x['results'][0]['geometry']['location']['lng']\n",
    "    except IndexError:\n",
    "        df2.loc[rows1]=row[\"Municipality Codes\"], row[\"Municipal\"], \"no result\", \"no result\",\"no result\"\n",
    "    rows1=rows1+1\n",
    "df2.to_csv('out.csv', index=False)"
   ]
  },
  {
   "cell_type": "code",
   "execution_count": null,
   "metadata": {},
   "outputs": [],
   "source": []
  }
 ],
 "metadata": {
  "kernelspec": {
   "display_name": "Python 3",
   "language": "python",
   "name": "python3"
  },
  "language_info": {
   "codemirror_mode": {
    "name": "ipython",
    "version": 3
   },
   "file_extension": ".py",
   "mimetype": "text/x-python",
   "name": "python",
   "nbconvert_exporter": "python",
   "pygments_lexer": "ipython3",
   "version": "3.7.6"
  }
 },
 "nbformat": 4,
 "nbformat_minor": 2
}
