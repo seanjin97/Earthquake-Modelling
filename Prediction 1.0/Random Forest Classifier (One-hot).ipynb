{
 "cells": [
  {
   "cell_type": "code",
   "execution_count": null,
   "metadata": {},
   "outputs": [],
   "source": [
    "import pandas as pd\n",
    "from sklearn.model_selection import train_test_split\n",
    "from sklearn.preprocessing import OneHotEncoder\n",
    "from sklearn.tree import DecisionTreeClassifier\n",
    "from sklearn.metrics import f1_score\n",
    "from sklearn.metrics import plot_confusion_matrix\n",
    "from sklearn.metrics import accuracy_score\n",
    "import matplotlib.pyplot as plt\n",
    "from sklearn.metrics import classification_report\n",
    "from sklearn.metrics import accuracy_score\n",
    "from sklearn.metrics import f1_score\n",
    "from sklearn import metrics"
   ]
  },
  {
   "cell_type": "code",
   "execution_count": 3,
   "metadata": {},
   "outputs": [],
   "source": [
    "df = pd.read_csv(\"csv_building_structure.csv\")\n",
    "df.dropna(inplace=True)\n",
    "df[\"damage_grade\"] = df[\"damage_grade\"].str.replace(\"Grade \", \"\")\n",
    "df[\"damage_grade\"] = df[\"damage_grade\"].astype(int)"
   ]
  },
  {
   "cell_type": "code",
   "execution_count": 4,
   "metadata": {},
   "outputs": [],
   "source": [
    "X = df[['count_floors_pre_eq', 'age_building',\n",
    "       'plinth_area_sq_ft', 'height_ft_pre_eq',\n",
    "       'land_surface_condition', 'foundation_type', 'roof_type',\n",
    "       'ground_floor_type', 'other_floor_type', 'position',\n",
    "       'plan_configuration', 'has_superstructure_adobe_mud',\n",
    "       'has_superstructure_mud_mortar_stone', 'has_superstructure_stone_flag',\n",
    "       'has_superstructure_cement_mortar_stone',\n",
    "       'has_superstructure_mud_mortar_brick',\n",
    "       'has_superstructure_cement_mortar_brick', 'has_superstructure_timber',\n",
    "       'has_superstructure_bamboo', 'has_superstructure_rc_non_engineered',\n",
    "       'has_superstructure_rc_engineered', 'has_superstructure_other']]\n",
    "X = pd.get_dummies(X)"
   ]
  },
  {
   "cell_type": "code",
   "execution_count": 5,
   "metadata": {},
   "outputs": [],
   "source": [
    "y = df[\"damage_grade\"]"
   ]
  },
  {
   "cell_type": "code",
   "execution_count": 6,
   "metadata": {},
   "outputs": [],
   "source": [
    "from sklearn.model_selection import train_test_split\n",
    "X_train, X_test, y_train, y_test = train_test_split(X, y, test_size=0.2, random_state = 0, stratify=y)"
   ]
  },
  {
   "cell_type": "code",
   "execution_count": null,
   "metadata": {},
   "outputs": [],
   "source": [
    "from sklearn.ensemble import RandomForestClassifier\n",
    "clf = RandomForestClassifier(random_state=0)\n",
    "clf.fit(X_train,y_train)\n",
    "clf_pred = clf.predict(X_test)"
   ]
  },
  {
   "cell_type": "code",
   "execution_count": null,
   "metadata": {},
   "outputs": [],
   "source": [
    "print(classification_report(y_test, clf_pred))\n",
    "# Accuracy - Multinomial \n",
    "accuracy_clf = accuracy_score(y_test,clf_pred)\n",
    "print(\"Accuracy:\", accuracy_clf)\n",
    "#Misclassification rate \n",
    "misclassified_clf = 1 - accuracy_clf\n",
    "print(\"Misclassification Rate:\", misclassified_clf)\n",
    "\n",
    "# Precision and Recall\n",
    "precision_clf = metrics.precision_score(y_test,clf_pred, average = 'micro')\n",
    "recall_clf = metrics.recall_score(y_test, clf_pred, average = 'micro')\n",
    "f_measure_clf = metrics.f1_score(y_test, clf_pred, average = 'micro')\n",
    "print(\"Precision:\",precision_clf)\n",
    "print(\"Recall:\",recall_clf)\n",
    "print(\"F-measure:\",f_measure_clf)\n",
    "disp = plot_confusion_matrix(clf, X_test, y_test, cmap=plt.cm.Blues,normalize=\"true\")"
   ]
  }
 ],
 "metadata": {
  "kernelspec": {
   "display_name": "Python 3",
   "language": "python",
   "name": "python3"
  },
  "language_info": {
   "codemirror_mode": {
    "name": "ipython",
    "version": 3
   },
   "file_extension": ".py",
   "mimetype": "text/x-python",
   "name": "python",
   "nbconvert_exporter": "python",
   "pygments_lexer": "ipython3",
   "version": "3.7.5"
  }
 },
 "nbformat": 4,
 "nbformat_minor": 4
}
