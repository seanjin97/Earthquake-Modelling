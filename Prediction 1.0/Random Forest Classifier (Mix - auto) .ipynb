{
 "cells": [
  {
   "cell_type": "code",
   "execution_count": 2,
   "metadata": {},
   "outputs": [],
   "source": [
    "import pandas as pd\n",
    "import pandas as pd\n",
    "from sklearn.model_selection import train_test_split\n",
    "from sklearn.preprocessing import OneHotEncoder\n",
    "from sklearn.tree import DecisionTreeClassifier\n",
    "from sklearn.metrics import f1_score\n",
    "from sklearn.metrics import plot_confusion_matrix\n",
    "from sklearn.metrics import accuracy_score\n",
    "import matplotlib.pyplot as plt\n",
    "from sklearn.metrics import classification_report\n",
    "from sklearn.metrics import accuracy_score\n",
    "from sklearn.metrics import f1_score\n",
    "from sklearn import metrics"
   ]
  },
  {
   "cell_type": "code",
   "execution_count": 3,
   "metadata": {},
   "outputs": [],
   "source": [
    "df = pd.read_csv(\"csv_building_structure.csv\")\n",
    "df.dropna(inplace=True)\n",
    "df[\"damage_grade\"] = df[\"damage_grade\"].str.replace(\"Grade \", \"\")\n",
    "df[\"damage_grade\"] = df[\"damage_grade\"].astype(int)"
   ]
  },
  {
   "cell_type": "code",
   "execution_count": 10,
   "metadata": {},
   "outputs": [],
   "source": [
    "from sklearn.preprocessing import OrdinalEncoder\n",
    "enc = OrdinalEncoder()\n",
    "df.iloc[:,10:11] = enc.fit_transform(df.iloc[:,10:11])\n",
    "df.iloc[:,16:17] = enc.fit_transform(df.iloc[:,16:17])\n",
    "\n",
    "df = pd.get_dummies(data = df, prefix=[\"pc\", 'ft', 'rt', 'gft','oft'], columns=[\"plan_configuration\", 'foundation_type', 'roof_type','ground_floor_type', 'other_floor_type'])"
   ]
  },
  {
   "cell_type": "code",
   "execution_count": null,
   "metadata": {},
   "outputs": [],
   "source": [
    "X = df[['count_floors_pre_eq', 'age_building',\n",
    "       'plinth_area_sq_ft', 'height_ft_pre_eq',\n",
    "       'land_surface_condition', 'position', 'has_superstructure_adobe_mud',\n",
    "       'has_superstructure_mud_mortar_stone', 'has_superstructure_stone_flag',\n",
    "       'has_superstructure_cement_mortar_stone',\n",
    "       'has_superstructure_mud_mortar_brick',\n",
    "       'has_superstructure_cement_mortar_brick', 'has_superstructure_timber',\n",
    "       'has_superstructure_bamboo', 'has_superstructure_rc_non_engineered',\n",
    "       'has_superstructure_rc_engineered', 'has_superstructure_other',\n",
    "       'pc_Building with Central Courtyard', 'pc_E-shape', 'pc_H-shape',\n",
    "       'pc_L-shape', 'pc_Multi-projected', 'pc_Others', 'pc_Rectangular',\n",
    "       'pc_Square', 'pc_T-shape', 'pc_U-shape', 'ft_Bamboo/Timber',\n",
    "       'ft_Cement-Stone/Brick', 'ft_Mud mortar-Stone/Brick', 'ft_Other',\n",
    "       'ft_RC', 'rt_Bamboo/Timber-Heavy roof', 'rt_Bamboo/Timber-Light roof',\n",
    "       'rt_RCC/RB/RBC', 'gft_Brick/Stone', 'gft_Mud', 'gft_Other', 'gft_RC',\n",
    "       'gft_Timber', 'oft_Not applicable', 'oft_RCC/RB/RBC',\n",
    "       'oft_TImber/Bamboo-Mud', 'oft_Timber-Planck']]\n",
    "y = df[\"damage_grade\"]"
   ]
  },
  {
   "cell_type": "code",
   "execution_count": null,
   "metadata": {},
   "outputs": [],
   "source": [
    "from sklearn.model_selection import train_test_split\n",
    "X_train, X_test, y_train, y_test = train_test_split(X, y, test_size=0.2, random_state = 0, stratify=y)"
   ]
  },
  {
   "cell_type": "code",
   "execution_count": null,
   "metadata": {},
   "outputs": [],
   "source": [
    "from sklearn.ensemble import RandomForestClassifier\n",
    "clf = RandomForestClassifier(random_state=0)\n",
    "clf.fit(X_train,y_train)\n",
    "clf_pred = clf.predict(X_test)"
   ]
  },
  {
   "cell_type": "code",
   "execution_count": null,
   "metadata": {},
   "outputs": [],
   "source": [
    "print(classification_report(y_test, clf_pred))\n",
    "# Accuracy - Multinomial \n",
    "accuracy_clf = accuracy_score(y_test,clf_pred)\n",
    "print(\"Accuracy:\", accuracy_clf)\n",
    "#Misclassification rate \n",
    "misclassified_clf = 1 - accuracy_clf\n",
    "print(\"Misclassification Rate:\", misclassified_clf)\n",
    "\n",
    "# Precision and Recall\n",
    "precision_clf = metrics.precision_score(y_test,clf_pred, average = 'micro')\n",
    "recall_clf = metrics.recall_score(y_test, clf_pred, average = 'micro')\n",
    "f_measure_clf = metrics.f1_score(y_test, clf_pred, average = 'micro')\n",
    "print(\"Precision:\",precision_clf)\n",
    "print(\"Recall:\",recall_clf)\n",
    "print(\"F-measure:\",f_measure_clf)\n",
    "disp = plot_confusion_matrix(clf, X_test, y_test, cmap=plt.cm.Blues,normalize=\"true\")"
   ]
  }
 ],
 "metadata": {
  "kernelspec": {
   "display_name": "Python 3",
   "language": "python",
   "name": "python3"
  },
  "language_info": {
   "codemirror_mode": {
    "name": "ipython",
    "version": 3
   },
   "file_extension": ".py",
   "mimetype": "text/x-python",
   "name": "python",
   "nbconvert_exporter": "python",
   "pygments_lexer": "ipython3",
   "version": "3.7.5"
  }
 },
 "nbformat": 4,
 "nbformat_minor": 4
}
