{
 "cells": [
  {
   "cell_type": "code",
   "execution_count": null,
   "metadata": {
    "colab": {},
    "colab_type": "code",
    "id": "FkoNvzpWN5WD"
   },
   "outputs": [],
   "source": [
    "#To install mord\n",
    "!pip install -q mord"
   ]
  },
  {
   "cell_type": "code",
   "execution_count": null,
   "metadata": {
    "colab": {},
    "colab_type": "code",
    "id": "tsHY-fsrsjuw"
   },
   "outputs": [],
   "source": [
    "import pandas as pd\n",
    "from sklearn.model_selection import train_test_split\n",
    "from sklearn.model_selection import cross_val_score\n",
    "from sklearn.preprocessing import OneHotEncoder\n",
    "from sklearn.preprocessing import StandardScaler\n",
    "from sklearn import metrics\n",
    "from sklearn.metrics import f1_score\n",
    "from sklearn.metrics import plot_confusion_matrix\n",
    "from sklearn.metrics import accuracy_score\n",
    "from sklearn.metrics import confusion_matrix\n",
    "from sklearn.metrics import make_scorer \n",
    "import matplotlib.pyplot as plt\n",
    "from sklearn.metrics import classification_report\n",
    "from sklearn.metrics import accuracy_score\n",
    "from sklearn.metrics import f1_score\n",
    "import seaborn as sns\n",
    "import numpy as np\n",
    "from mord import LogisticAT"
   ]
  },
  {
   "cell_type": "code",
   "execution_count": null,
   "metadata": {
    "colab": {
     "base_uri": "https://localhost:8080/",
     "height": 34
    },
    "colab_type": "code",
    "executionInfo": {
     "elapsed": 4263,
     "status": "ok",
     "timestamp": 1585835228663,
     "user": {
      "displayName": "Seah si yun",
      "photoUrl": "https://lh3.googleusercontent.com/a-/AOh14Gj7ejzplGtuoVo8MxbK7vUK66r3Lc3A69qeskMidg=s64",
      "userId": "18290438130858374757"
     },
     "user_tz": -480
    },
    "id": "DSMOWzA_3mys",
    "outputId": "0965122c-6fc5-40fb-b027-5514a7555316"
   },
   "outputs": [
    {
     "data": {
      "text/plain": [
       "(661294, 34)"
      ]
     },
     "execution_count": 3,
     "metadata": {
      "tags": []
     },
     "output_type": "execute_result"
    }
   ],
   "source": [
    "df = pd.read_csv(\"/content/drive/My Drive/Colab Notebooks/merge_distance_intensity.csv\")\n",
    "df.shape"
   ]
  },
  {
   "cell_type": "code",
   "execution_count": null,
   "metadata": {
    "colab": {},
    "colab_type": "code",
    "id": "3-2hr8N23m1f"
   },
   "outputs": [],
   "source": [
    "df.dropna(inplace=True)\n",
    "df[\"damage_grade\"] = df[\"damage_grade\"].str.replace(\"Grade \", \"\")\n",
    "df[\"damage_grade\"] = df[\"damage_grade\"].astype(int)\n",
    "\n",
    "X = df[['count_floors_pre_eq', 'age_building',\n",
    "       'plinth_area_sq_ft', 'height_ft_pre_eq',\n",
    "       'land_surface_condition', 'foundation_type', 'roof_type',\n",
    "       'ground_floor_type', 'other_floor_type', 'position',\n",
    "       'plan_configuration', 'has_superstructure_adobe_mud',\n",
    "       'has_superstructure_mud_mortar_stone', 'has_superstructure_stone_flag',\n",
    "       'has_superstructure_cement_mortar_stone',\n",
    "       'has_superstructure_mud_mortar_brick',\n",
    "       'has_superstructure_cement_mortar_brick', 'has_superstructure_timber',\n",
    "       'has_superstructure_bamboo', 'has_superstructure_rc_non_engineered',\n",
    "       'has_superstructure_rc_engineered', 'has_superstructure_other']]\n",
    "\n",
    "X = pd.get_dummies(X)\n",
    "y = df[\"damage_grade\"]"
   ]
  },
  {
   "cell_type": "markdown",
   "metadata": {
    "colab_type": "text",
    "id": "3B0-9FJYPcxF"
   },
   "source": [
    "Standardise the Variables"
   ]
  },
  {
   "cell_type": "markdown",
   "metadata": {
    "colab_type": "text",
    "id": "RCfq9A9SPjeY"
   },
   "source": [
    "Split into train and test data"
   ]
  },
  {
   "cell_type": "code",
   "execution_count": null,
   "metadata": {
    "colab": {},
    "colab_type": "code",
    "id": "CWqGyW6z3m1t"
   },
   "outputs": [],
   "source": [
    "X_train, X_test, y_train, y_test = train_test_split(X, y, test_size=0.2, random_state = 0, stratify=y)"
   ]
  },
  {
   "cell_type": "markdown",
   "metadata": {
    "colab_type": "text",
    "id": "L24Mty3V3m1v"
   },
   "source": [
    "Fit into the Model"
   ]
  },
  {
   "cell_type": "code",
   "execution_count": null,
   "metadata": {
    "colab": {
     "base_uri": "https://localhost:8080/",
     "height": 34
    },
    "colab_type": "code",
    "executionInfo": {
     "elapsed": 19022,
     "status": "ok",
     "timestamp": 1585835258477,
     "user": {
      "displayName": "Seah si yun",
      "photoUrl": "https://lh3.googleusercontent.com/a-/AOh14Gj7ejzplGtuoVo8MxbK7vUK66r3Lc3A69qeskMidg=s64",
      "userId": "18290438130858374757"
     },
     "user_tz": -480
    },
    "id": "Tt6NnQJB3m1z",
    "outputId": "c370f878-60b5-4867-801f-835089ba3c70"
   },
   "outputs": [
    {
     "data": {
      "text/plain": [
       "LogisticAT(alpha=0, max_iter=1000, verbose=0)"
      ]
     },
     "execution_count": 10,
     "metadata": {
      "tags": []
     },
     "output_type": "execute_result"
    }
   ],
   "source": [
    "#Train Model\n",
    "model_ordinal = LogisticAT(alpha=0) #alpha = 0, no regularization\n",
    "model_ordinal.fit(X_train, y_train)"
   ]
  },
  {
   "cell_type": "markdown",
   "metadata": {
    "colab_type": "text",
    "id": "7AHmG1jdPziv"
   },
   "source": [
    "Measurements"
   ]
  },
  {
   "cell_type": "code",
   "execution_count": null,
   "metadata": {
    "colab": {
     "base_uri": "https://localhost:8080/",
     "height": 102
    },
    "colab_type": "code",
    "executionInfo": {
     "elapsed": 1000,
     "status": "ok",
     "timestamp": 1585835259497,
     "user": {
      "displayName": "Seah si yun",
      "photoUrl": "https://lh3.googleusercontent.com/a-/AOh14Gj7ejzplGtuoVo8MxbK7vUK66r3Lc3A69qeskMidg=s64",
      "userId": "18290438130858374757"
     },
     "user_tz": -480
    },
    "id": "zvcpq5Mv3m13",
    "outputId": "e6ef8735-1512-4932-9959-f35b35325dfc"
   },
   "outputs": [
    {
     "data": {
      "text/plain": [
       "array([[ 3739,  5811,  1403,  2312,   273],\n",
       "       [ 1933,  3507,  1626,  5994,  1482],\n",
       "       [  824,  2406,  2138, 13668,  4251],\n",
       "       [  145,  1049,  1896, 20129,  8631],\n",
       "       [  100,   842,  1500, 29474, 17124]])"
      ]
     },
     "execution_count": 12,
     "metadata": {
      "tags": []
     },
     "output_type": "execute_result"
    }
   ],
   "source": [
    "metrics.confusion_matrix(y_test, predictions)"
   ]
  },
  {
   "cell_type": "code",
   "execution_count": null,
   "metadata": {
    "colab": {
     "base_uri": "https://localhost:8080/",
     "height": 51
    },
    "colab_type": "code",
    "executionInfo": {
     "elapsed": 993,
     "status": "ok",
     "timestamp": 1585835259499,
     "user": {
      "displayName": "Seah si yun",
      "photoUrl": "https://lh3.googleusercontent.com/a-/AOh14Gj7ejzplGtuoVo8MxbK7vUK66r3Lc3A69qeskMidg=s64",
      "userId": "18290438130858374757"
     },
     "user_tz": -480
    },
    "id": "2uBHp_6n3m1-",
    "outputId": "50b4ee4b-38e5-4b9d-8ce4-edfad50c39b2"
   },
   "outputs": [
    {
     "name": "stdout",
     "output_type": "stream",
     "text": [
      "Accuracy: 0.35262405770583033\n",
      "Misclassification Rate: 0.6473759422941696\n"
     ]
    }
   ],
   "source": [
    "# Accuracy\n",
    "accuracy = accuracy_score(y_test,predictions)\n",
    "print(\"Accuracy:\", accuracy)\n",
    "\n",
    "#Misclassification rate \n",
    "misclassified = 1 - accuracy \n",
    "print(\"Misclassification Rate:\", misclassified)"
   ]
  },
  {
   "cell_type": "code",
   "execution_count": null,
   "metadata": {
    "colab": {
     "base_uri": "https://localhost:8080/",
     "height": 68
    },
    "colab_type": "code",
    "executionInfo": {
     "elapsed": 984,
     "status": "ok",
     "timestamp": 1585835259499,
     "user": {
      "displayName": "Seah si yun",
      "photoUrl": "https://lh3.googleusercontent.com/a-/AOh14Gj7ejzplGtuoVo8MxbK7vUK66r3Lc3A69qeskMidg=s64",
      "userId": "18290438130858374757"
     },
     "user_tz": -480
    },
    "id": "pWJLko2X3m1_",
    "outputId": "accf972b-7327-4f96-8616-4f920a025138"
   },
   "outputs": [
    {
     "name": "stdout",
     "output_type": "stream",
     "text": [
      "Precision: 0.35262405770583033\n",
      "Recall: 0.35262405770583033\n",
      "F-measure: 0.35262405770583033\n"
     ]
    }
   ],
   "source": [
    "# Precision, Recall and F Score\n",
    "precision = metrics.precision_score(y_test,predictions, average = 'micro')\n",
    "recall = metrics.recall_score(y_test, predictions, average = 'micro')\n",
    "f_measure = metrics.f1_score(y_test, predictions, average = 'micro')\n",
    "print(\"Precision:\",precision)\n",
    "print(\"Recall:\",recall)\n",
    "print(\"F-measure:\",f_measure)"
   ]
  },
  {
   "cell_type": "code",
   "execution_count": null,
   "metadata": {
    "colab": {},
    "colab_type": "code",
    "id": "OuTzjGPDnAZF"
   },
   "outputs": [],
   "source": []
  }
 ],
 "metadata": {
  "accelerator": "GPU",
  "colab": {
   "collapsed_sections": [],
   "machine_shape": "hm",
   "name": "Ordinal Logistic Regression.ipynb",
   "provenance": []
  },
  "kernelspec": {
   "display_name": "Python 3",
   "language": "python",
   "name": "python3"
  },
  "language_info": {
   "codemirror_mode": {
    "name": "ipython",
    "version": 3
   },
   "file_extension": ".py",
   "mimetype": "text/x-python",
   "name": "python",
   "nbconvert_exporter": "python",
   "pygments_lexer": "ipython3",
   "version": "3.7.5"
  }
 },
 "nbformat": 4,
 "nbformat_minor": 4
}
